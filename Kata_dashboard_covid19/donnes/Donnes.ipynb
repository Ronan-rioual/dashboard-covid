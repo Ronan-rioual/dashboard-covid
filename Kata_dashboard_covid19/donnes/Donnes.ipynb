{
 "cells": [
  {
   "cell_type": "code",
   "execution_count": 1,
   "metadata": {},
   "outputs": [],
   "source": [
    "import pandas as pd"
   ]
  },
  {
   "cell_type": "code",
   "execution_count": 2,
   "metadata": {},
   "outputs": [
    {
     "data": {
      "text/html": [
       "<div>\n",
       "<style scoped>\n",
       "    .dataframe tbody tr th:only-of-type {\n",
       "        vertical-align: middle;\n",
       "    }\n",
       "\n",
       "    .dataframe tbody tr th {\n",
       "        vertical-align: top;\n",
       "    }\n",
       "\n",
       "    .dataframe thead th {\n",
       "        text-align: right;\n",
       "    }\n",
       "</style>\n",
       "<table border=\"1\" class=\"dataframe\">\n",
       "  <thead>\n",
       "    <tr style=\"text-align: right;\">\n",
       "      <th></th>\n",
       "      <th>dep;\"sexe\";\"jour\";\"hosp\";\"rea\";\"rad\";\"dc\"</th>\n",
       "    </tr>\n",
       "  </thead>\n",
       "  <tbody>\n",
       "    <tr>\n",
       "      <th>0</th>\n",
       "      <td>01;\"0\";\"2020-03-18\";2;0;1;0</td>\n",
       "    </tr>\n",
       "    <tr>\n",
       "      <th>1</th>\n",
       "      <td>01;\"1\";\"2020-03-18\";1;0;1;0</td>\n",
       "    </tr>\n",
       "    <tr>\n",
       "      <th>2</th>\n",
       "      <td>01;\"2\";\"2020-03-18\";1;0;0;0</td>\n",
       "    </tr>\n",
       "    <tr>\n",
       "      <th>3</th>\n",
       "      <td>02;\"0\";\"2020-03-18\";41;10;18;11</td>\n",
       "    </tr>\n",
       "    <tr>\n",
       "      <th>4</th>\n",
       "      <td>02;\"1\";\"2020-03-18\";19;4;11;6</td>\n",
       "    </tr>\n",
       "    <tr>\n",
       "      <th>...</th>\n",
       "      <td>...</td>\n",
       "    </tr>\n",
       "    <tr>\n",
       "      <th>93925</th>\n",
       "      <td>974;\"1\";\"2021-01-21\";26;6;371;26</td>\n",
       "    </tr>\n",
       "    <tr>\n",
       "      <th>93926</th>\n",
       "      <td>974;\"2\";\"2021-01-21\";20;0;381;28</td>\n",
       "    </tr>\n",
       "    <tr>\n",
       "      <th>93927</th>\n",
       "      <td>976;\"0\";\"2021-01-21\";13;4;568;44</td>\n",
       "    </tr>\n",
       "    <tr>\n",
       "      <th>93928</th>\n",
       "      <td>976;\"1\";\"2021-01-21\";4;3;275;27</td>\n",
       "    </tr>\n",
       "    <tr>\n",
       "      <th>93929</th>\n",
       "      <td>976;\"2\";\"2021-01-21\";9;1;287;17</td>\n",
       "    </tr>\n",
       "  </tbody>\n",
       "</table>\n",
       "<p>93930 rows × 1 columns</p>\n",
       "</div>"
      ],
      "text/plain": [
       "      dep;\"sexe\";\"jour\";\"hosp\";\"rea\";\"rad\";\"dc\"\n",
       "0                   01;\"0\";\"2020-03-18\";2;0;1;0\n",
       "1                   01;\"1\";\"2020-03-18\";1;0;1;0\n",
       "2                   01;\"2\";\"2020-03-18\";1;0;0;0\n",
       "3               02;\"0\";\"2020-03-18\";41;10;18;11\n",
       "4                 02;\"1\";\"2020-03-18\";19;4;11;6\n",
       "...                                         ...\n",
       "93925          974;\"1\";\"2021-01-21\";26;6;371;26\n",
       "93926          974;\"2\";\"2021-01-21\";20;0;381;28\n",
       "93927          976;\"0\";\"2021-01-21\";13;4;568;44\n",
       "93928           976;\"1\";\"2021-01-21\";4;3;275;27\n",
       "93929           976;\"2\";\"2021-01-21\";9;1;287;17\n",
       "\n",
       "[93930 rows x 1 columns]"
      ]
     },
     "execution_count": 2,
     "metadata": {},
     "output_type": "execute_result"
    }
   ],
   "source": [
    "pd.read_csv('donneeshospitalieres.csv')"
   ]
  },
  {
   "cell_type": "code",
   "execution_count": null,
   "metadata": {},
   "outputs": [],
   "source": []
  }
 ],
 "metadata": {
  "kernelspec": {
   "display_name": "Python 3",
   "language": "python",
   "name": "python3"
  },
  "language_info": {
   "codemirror_mode": {
    "name": "ipython",
    "version": 3
   },
   "file_extension": ".py",
   "mimetype": "text/x-python",
   "name": "python",
   "nbconvert_exporter": "python",
   "pygments_lexer": "ipython3",
   "version": "3.8.5"
  }
 },
 "nbformat": 4,
 "nbformat_minor": 4
}
